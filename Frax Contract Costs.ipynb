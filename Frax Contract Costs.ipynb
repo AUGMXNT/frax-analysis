{
 "cells": [
  {
   "cell_type": "code",
   "execution_count": 1,
   "id": "7b58424c-8d0a-413e-a0c5-21feccd00461",
   "metadata": {},
   "outputs": [],
   "source": [
    "from cache import cache\n",
    "from collections import defaultdict\n",
    "from decimal import Decimal\n",
    "import httpx\n",
    "import json\n",
    "import pandas as pd\n",
    "from pprint import pprint\n",
    "import sys\n",
    "from tabulate import tabulate\n",
    "import time\n",
    "from web3 import Web3\n",
    "\n",
    "from IPython.display import display, HTML"
   ]
  },
  {
   "cell_type": "code",
   "execution_count": 2,
   "id": "5c572a7e-67ec-429a-9c9a-52ba2059f600",
   "metadata": {
    "tags": []
   },
   "outputs": [
    {
     "name": "stdout",
     "output_type": "stream",
     "text": [
      "ETH Price: $2,748.20\n",
      "Gwei: 46.0\n"
     ]
    }
   ],
   "source": [
    "# Gas Price - we could use web3 but this is fine\n",
    "GAS_URL = 'https://api.debank.com/chain/gas_price_dict_v2?chain=eth'\n",
    "c = cache.get(GAS_URL, refresh=True)\n",
    "gas = json.loads(c['value'])\n",
    "gas_price = gas['data']['normal']['price']/10**18\n",
    "\n",
    "# ETH price\n",
    "ETH_PRICE_URL = 'https://api.coingecko.com/api/v3/simple/price?vs_currencies=usd&ids=ethereum'\n",
    "c = cache.get(ETH_PRICE_URL, refresh=True)\n",
    "eth = json.loads(c['value'])\n",
    "price_eth = eth['ethereum']['usd']\n",
    "\n",
    "print(f'ETH Price: ${price_eth:,.2f}')\n",
    "print(f'Gwei: {gas_price*10**9:,.1f}')"
   ]
  },
  {
   "cell_type": "code",
   "execution_count": 3,
   "id": "609a4e6d-6918-4e29-b740-14eda52c848f",
   "metadata": {},
   "outputs": [],
   "source": [
    "def print_cost(title, data):\n",
    "    # Calculate gas cost\n",
    "    total_eth = 0.0\n",
    "    total_usd = 0.0\n",
    "    for d in data:\n",
    "        cost_eth = d['gas'] * gas_price\n",
    "        total_eth += cost_eth\n",
    "        cost_usd = cost_eth * price_eth\n",
    "        total_usd += cost_usd\n",
    "        d['cost_eth'] = cost_eth\n",
    "        d['cost_usd'] = cost_usd\n",
    "\n",
    "    # Add Total\n",
    "    data.append({\n",
    "        'description': 'TOTAL',\n",
    "        'method': None,\n",
    "        'gas': None,\n",
    "        'contract': None,\n",
    "        'cost_eth': total_eth,\n",
    "        'cost_usd': total_usd,\n",
    "    })\n",
    "    \n",
    "    # Contracts\n",
    "    contracts = {\n",
    "        '0x3432b6a60d23ca0dfca7761b7ab56459d9c964d0': 'FXS',\n",
    "        '0xc8418af6358ffdda74e09ca9cc3fe03ca6adc5b0': 'veFXS',\n",
    "        '0xc6764e58b36e26b08Fd1d2AeD4538c02171fA872': 'veFXSYieldDistributorV4',\n",
    "        '0x3669C421b77340B2979d1A00a792CC2ee0FcE737': 'FraxGaugeControllerV2',\n",
    "        '0x3EF26504dbc8Dd7B7aa3E97Bc9f3813a9FC0B4B0': 'FraxFarm_UniV3_veFXS_FRAX_USDC',\n",
    "    }\n",
    "    \n",
    "    for d in data:\n",
    "        if d['contract'] in contracts:\n",
    "            address = d['contract']\n",
    "            name = contracts[address] \n",
    "            d['contract'] = f'<a href=\"https://etherscan.io/address/{address}\">{name}</a>'\n",
    "    \n",
    "    # Print a nice table\n",
    "    display(HTML(f'<b>{title}</b>')) \n",
    "    colalign = ('left', 'left', 'left', 'right', 'right', 'right')\n",
    "    floatfmt = (None, None, None, None, \".5f\", \".2f\")\n",
    "    display(tabulate(data, headers='keys', tablefmt='unsafehtml', colalign=colalign, floatfmt=floatfmt))"
   ]
  },
  {
   "cell_type": "code",
   "execution_count": 4,
   "id": "a1c4c5cc-a095-469f-a964-5ae40d568314",
   "metadata": {},
   "outputs": [
    {
     "data": {
      "text/html": [
       "<b>Staking veFXS (First Time)</b>"
      ],
      "text/plain": [
       "<IPython.core.display.HTML object>"
      ]
     },
     "metadata": {},
     "output_type": "display_data"
    },
    {
     "data": {
      "text/html": [
       "<table>\n",
       "<thead>\n",
       "<tr><th>description  </th><th>contract                                                                                                     </th><th>method     </th><th style=\"text-align: right;\">   gas</th><th style=\"text-align: right;\">  cost_eth</th><th style=\"text-align: right;\">  cost_usd</th></tr>\n",
       "</thead>\n",
       "<tbody>\n",
       "<tr><td>Approve FXS  </td><td><a href=\"https://etherscan.io/address/0x3432b6a60d23ca0dfca7761b7ab56459d9c964d0\">FXS</a>                    </td><td>approve    </td><td style=\"text-align: right;\"> 46677</td><td style=\"text-align: right;\">   0.00215</td><td style=\"text-align: right;\">      5.90</td></tr>\n",
       "<tr><td>Lock Tokens  </td><td><a href=\"https://etherscan.io/address/0xc8418af6358ffdda74e09ca9cc3fe03ca6adc5b0\">veFXS</a>                  </td><td>create_lock</td><td style=\"text-align: right;\">442770</td><td style=\"text-align: right;\">   0.02037</td><td style=\"text-align: right;\">     55.97</td></tr>\n",
       "<tr><td>Checkpoint   </td><td><a href=\"https://etherscan.io/address/0xc6764e58b36e26b08Fd1d2AeD4538c02171fA872\">veFXSYieldDistributorV4</a></td><td>checkpoint </td><td style=\"text-align: right;\">200000</td><td style=\"text-align: right;\">   0.00920</td><td style=\"text-align: right;\">     25.28</td></tr>\n",
       "<tr><td>TOTAL        </td><td>                                                                                                             </td><td>           </td><td style=\"text-align: right;\">      </td><td style=\"text-align: right;\">   0.03171</td><td style=\"text-align: right;\">     87.16</td></tr>\n",
       "</tbody>\n",
       "</table>"
      ],
      "text/plain": [
       "'<table>\\n<thead>\\n<tr><th>description  </th><th>contract                                                                                                     </th><th>method     </th><th style=\"text-align: right;\">   gas</th><th style=\"text-align: right;\">  cost_eth</th><th style=\"text-align: right;\">  cost_usd</th></tr>\\n</thead>\\n<tbody>\\n<tr><td>Approve FXS  </td><td><a href=\"https://etherscan.io/address/0x3432b6a60d23ca0dfca7761b7ab56459d9c964d0\">FXS</a>                    </td><td>approve    </td><td style=\"text-align: right;\"> 46677</td><td style=\"text-align: right;\">   0.00215</td><td style=\"text-align: right;\">      5.90</td></tr>\\n<tr><td>Lock Tokens  </td><td><a href=\"https://etherscan.io/address/0xc8418af6358ffdda74e09ca9cc3fe03ca6adc5b0\">veFXS</a>                  </td><td>create_lock</td><td style=\"text-align: right;\">442770</td><td style=\"text-align: right;\">   0.02037</td><td style=\"text-align: right;\">     55.97</td></tr>\\n<tr><td>Checkpoint   </td><td><a href=\"https://etherscan.io/address/0xc6764e58b36e26b08Fd1d2AeD4538c02171fA872\">veFXSYieldDistributorV4</a></td><td>checkpoint </td><td style=\"text-align: right;\">200000</td><td style=\"text-align: right;\">   0.00920</td><td style=\"text-align: right;\">     25.28</td></tr>\\n<tr><td>TOTAL        </td><td>                                                                                                             </td><td>           </td><td style=\"text-align: right;\">      </td><td style=\"text-align: right;\">   0.03171</td><td style=\"text-align: right;\">     87.16</td></tr>\\n</tbody>\\n</table>'"
      ]
     },
     "metadata": {},
     "output_type": "display_data"
    }
   ],
   "source": [
    "# veFXS Staking \n",
    "title = 'Staking veFXS (First Time)'\n",
    "data = [\n",
    "    {\n",
    "        'description': 'Approve FXS', \n",
    "        'contract': '0x3432b6a60d23ca0dfca7761b7ab56459d9c964d0',\n",
    "        'method': 'approve', \n",
    "        'gas': 46677\n",
    "    },\n",
    "    {\n",
    "        'description': 'Lock Tokens', \n",
    "        'contract': '0xc8418af6358ffdda74e09ca9cc3fe03ca6adc5b0',\n",
    "        'method': 'create_lock', \n",
    "        'gas': 442770\n",
    "    },\n",
    "    {\n",
    "        'description': 'Checkpoint', \n",
    "        'contract': '0xc6764e58b36e26b08Fd1d2AeD4538c02171fA872',\n",
    "        'method': 'checkpoint', \n",
    "        'gas': 200000\n",
    "    },\n",
    "]\n",
    "print_cost(title, data)"
   ]
  },
  {
   "cell_type": "code",
   "execution_count": 5,
   "id": "190e0a50-2e3f-4728-8881-fbe85ce9e692",
   "metadata": {},
   "outputs": [
    {
     "data": {
      "text/html": [
       "<b>Claiming veFXS Rewards</b>"
      ],
      "text/plain": [
       "<IPython.core.display.HTML object>"
      ]
     },
     "metadata": {},
     "output_type": "display_data"
    },
    {
     "data": {
      "text/html": [
       "<table>\n",
       "<thead>\n",
       "<tr><th>description  </th><th>contract                                                                                                     </th><th>method  </th><th style=\"text-align: right;\">   gas</th><th style=\"text-align: right;\">  cost_eth</th><th style=\"text-align: right;\">  cost_usd</th></tr>\n",
       "</thead>\n",
       "<tbody>\n",
       "<tr><td>Claim Rewards</td><td><a href=\"https://etherscan.io/address/0xc6764e58b36e26b08Fd1d2AeD4538c02171fA872\">veFXSYieldDistributorV4</a></td><td>getYield</td><td style=\"text-align: right;\">230000</td><td style=\"text-align: right;\">   0.01058</td><td style=\"text-align: right;\">     29.08</td></tr>\n",
       "<tr><td>TOTAL        </td><td>                                                                                                             </td><td>        </td><td style=\"text-align: right;\">      </td><td style=\"text-align: right;\">   0.01058</td><td style=\"text-align: right;\">     29.08</td></tr>\n",
       "</tbody>\n",
       "</table>"
      ],
      "text/plain": [
       "'<table>\\n<thead>\\n<tr><th>description  </th><th>contract                                                                                                     </th><th>method  </th><th style=\"text-align: right;\">   gas</th><th style=\"text-align: right;\">  cost_eth</th><th style=\"text-align: right;\">  cost_usd</th></tr>\\n</thead>\\n<tbody>\\n<tr><td>Claim Rewards</td><td><a href=\"https://etherscan.io/address/0xc6764e58b36e26b08Fd1d2AeD4538c02171fA872\">veFXSYieldDistributorV4</a></td><td>getYield</td><td style=\"text-align: right;\">230000</td><td style=\"text-align: right;\">   0.01058</td><td style=\"text-align: right;\">     29.08</td></tr>\\n<tr><td>TOTAL        </td><td>                                                                                                             </td><td>        </td><td style=\"text-align: right;\">      </td><td style=\"text-align: right;\">   0.01058</td><td style=\"text-align: right;\">     29.08</td></tr>\\n</tbody>\\n</table>'"
      ]
     },
     "metadata": {},
     "output_type": "display_data"
    }
   ],
   "source": [
    "# Claiming veFXS Rewards \n",
    "title = 'Claiming veFXS Rewards'\n",
    "data = [\n",
    "    {\n",
    "        'description': 'Claim Rewards', \n",
    "        'contract': '0xc6764e58b36e26b08Fd1d2AeD4538c02171fA872',\n",
    "        'method': 'getYield', \n",
    "        'gas': 230000\n",
    "    },\n",
    "]\n",
    "print_cost(title, data)"
   ]
  },
  {
   "cell_type": "code",
   "execution_count": 6,
   "id": "58454b17-fff8-4243-948a-9e41ca2798ce",
   "metadata": {},
   "outputs": [
    {
     "data": {
      "text/html": [
       "<b>Voting for a Gauge (single vote; 2 calls to re-assign)</b>"
      ],
      "text/plain": [
       "<IPython.core.display.HTML object>"
      ]
     },
     "metadata": {},
     "output_type": "display_data"
    },
    {
     "data": {
      "text/html": [
       "<table>\n",
       "<thead>\n",
       "<tr><th>description  </th><th>contract                                                                                                   </th><th>method                </th><th style=\"text-align: right;\">   gas</th><th style=\"text-align: right;\">  cost_eth</th><th style=\"text-align: right;\">  cost_usd</th></tr>\n",
       "</thead>\n",
       "<tbody>\n",
       "<tr><td>Gauge Voting </td><td><a href=\"https://etherscan.io/address/0x3669C421b77340B2979d1A00a792CC2ee0FcE737\">FraxGaugeControllerV2</a></td><td>vote_for_gauge_weights</td><td style=\"text-align: right;\">250000</td><td style=\"text-align: right;\">   0.01150</td><td style=\"text-align: right;\">     31.60</td></tr>\n",
       "<tr><td>TOTAL        </td><td>                                                                                                           </td><td>                      </td><td style=\"text-align: right;\">      </td><td style=\"text-align: right;\">   0.01150</td><td style=\"text-align: right;\">     31.60</td></tr>\n",
       "</tbody>\n",
       "</table>"
      ],
      "text/plain": [
       "'<table>\\n<thead>\\n<tr><th>description  </th><th>contract                                                                                                   </th><th>method                </th><th style=\"text-align: right;\">   gas</th><th style=\"text-align: right;\">  cost_eth</th><th style=\"text-align: right;\">  cost_usd</th></tr>\\n</thead>\\n<tbody>\\n<tr><td>Gauge Voting </td><td><a href=\"https://etherscan.io/address/0x3669C421b77340B2979d1A00a792CC2ee0FcE737\">FraxGaugeControllerV2</a></td><td>vote_for_gauge_weights</td><td style=\"text-align: right;\">250000</td><td style=\"text-align: right;\">   0.01150</td><td style=\"text-align: right;\">     31.60</td></tr>\\n<tr><td>TOTAL        </td><td>                                                                                                           </td><td>                      </td><td style=\"text-align: right;\">      </td><td style=\"text-align: right;\">   0.01150</td><td style=\"text-align: right;\">     31.60</td></tr>\\n</tbody>\\n</table>'"
      ]
     },
     "metadata": {},
     "output_type": "display_data"
    }
   ],
   "source": [
    "# Voting for a Gauge\n",
    "title = 'Voting for a Gauge (single vote; 2 calls to re-assign)'\n",
    "data = [\n",
    "    {\n",
    "        'description': 'Gauge Voting', \n",
    "        'contract': '0x3669C421b77340B2979d1A00a792CC2ee0FcE737',\n",
    "        'method': 'vote_for_gauge_weights', \n",
    "        'gas': 250000\n",
    "    },\n",
    "]\n",
    "print_cost(title, data)"
   ]
  },
  {
   "cell_type": "code",
   "execution_count": 7,
   "id": "b4fd1d6f-2d10-4c99-a0b2-1440f13a10f1",
   "metadata": {},
   "outputs": [
    {
     "data": {
      "text/html": [
       "<b>Claiming from Gauge Farm (UniV3 FRAX/USDC; single lock)</b>"
      ],
      "text/plain": [
       "<IPython.core.display.HTML object>"
      ]
     },
     "metadata": {},
     "output_type": "display_data"
    },
    {
     "data": {
      "text/html": [
       "<table>\n",
       "<thead>\n",
       "<tr><th>description  </th><th>contract                                                                                                            </th><th>method                </th><th style=\"text-align: right;\">   gas</th><th style=\"text-align: right;\">  cost_eth</th><th style=\"text-align: right;\">  cost_usd</th></tr>\n",
       "</thead>\n",
       "<tbody>\n",
       "<tr><td>Claim Rewards</td><td><a href=\"https://etherscan.io/address/0x3EF26504dbc8Dd7B7aa3E97Bc9f3813a9FC0B4B0\">FraxFarm_UniV3_veFXS_FRAX_USDC</a></td><td>vote_for_gauge_weights</td><td style=\"text-align: right;\">400000</td><td style=\"text-align: right;\">   0.01840</td><td style=\"text-align: right;\">     50.57</td></tr>\n",
       "<tr><td>TOTAL        </td><td>                                                                                                                    </td><td>                      </td><td style=\"text-align: right;\">      </td><td style=\"text-align: right;\">   0.01840</td><td style=\"text-align: right;\">     50.57</td></tr>\n",
       "</tbody>\n",
       "</table>"
      ],
      "text/plain": [
       "'<table>\\n<thead>\\n<tr><th>description  </th><th>contract                                                                                                            </th><th>method                </th><th style=\"text-align: right;\">   gas</th><th style=\"text-align: right;\">  cost_eth</th><th style=\"text-align: right;\">  cost_usd</th></tr>\\n</thead>\\n<tbody>\\n<tr><td>Claim Rewards</td><td><a href=\"https://etherscan.io/address/0x3EF26504dbc8Dd7B7aa3E97Bc9f3813a9FC0B4B0\">FraxFarm_UniV3_veFXS_FRAX_USDC</a></td><td>vote_for_gauge_weights</td><td style=\"text-align: right;\">400000</td><td style=\"text-align: right;\">   0.01840</td><td style=\"text-align: right;\">     50.57</td></tr>\\n<tr><td>TOTAL        </td><td>                                                                                                                    </td><td>                      </td><td style=\"text-align: right;\">      </td><td style=\"text-align: right;\">   0.01840</td><td style=\"text-align: right;\">     50.57</td></tr>\\n</tbody>\\n</table>'"
      ]
     },
     "metadata": {},
     "output_type": "display_data"
    }
   ],
   "source": [
    "# Claiming from Gauge Farm\n",
    "title = 'Claiming from Gauge Farm (UniV3 FRAX/USDC; single lock)'\n",
    "data = [\n",
    "    {\n",
    "        'description': 'Claim Rewards', \n",
    "        'contract': '0x3EF26504dbc8Dd7B7aa3E97Bc9f3813a9FC0B4B0',\n",
    "        'method': 'vote_for_gauge_weights', \n",
    "        'gas': 400000\n",
    "    },\n",
    "]\n",
    "print_cost(title, data)"
   ]
  },
  {
   "cell_type": "markdown",
   "id": "9492020b-e2c8-47f8-a967-99e95a688e8d",
   "metadata": {
    "tags": []
   },
   "source": [
    "# Governance\n",
    "Snapshot voting is gasless (FREE!)\n",
    "\n",
    "Vote here if you have veFXS: https://snapshot.org/#/frax.eth/\n",
    "\n",
    "Forums are also free:\n",
    "https://gov.frax.finance/"
   ]
  }
 ],
 "metadata": {
  "kernelspec": {
   "display_name": "Python 3 (ipykernel)",
   "language": "python",
   "name": "python3"
  },
  "language_info": {
   "codemirror_mode": {
    "name": "ipython",
    "version": 3
   },
   "file_extension": ".py",
   "mimetype": "text/x-python",
   "name": "python",
   "nbconvert_exporter": "python",
   "pygments_lexer": "ipython3",
   "version": "3.10.2"
  }
 },
 "nbformat": 4,
 "nbformat_minor": 5
}
