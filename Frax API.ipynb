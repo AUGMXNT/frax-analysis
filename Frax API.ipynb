{
 "cells": [
  {
   "cell_type": "code",
   "execution_count": 127,
   "id": "57675720",
   "metadata": {},
   "outputs": [],
   "source": [
    "# This file is used to test how to get data from the Frax API and supplied info.\n",
    "# We may also sanity check or use chain access via a local node or blockchain scanner\n",
    "# if that's necessary"
   ]
  },
  {
   "cell_type": "code",
   "execution_count": 2,
   "id": "c21f441a",
   "metadata": {},
   "outputs": [],
   "source": [
    "from cache import cache\n",
    "from collections import defaultdict\n",
    "from decimal import Decimal\n",
    "import httpx\n",
    "import json\n",
    "from pprint import pprint\n",
    "import sys\n",
    "from web3 import Web3"
   ]
  },
  {
   "cell_type": "code",
   "execution_count": 31,
   "id": "82506f3a",
   "metadata": {},
   "outputs": [
    {
     "name": "stdout",
     "output_type": "stream",
     "text": [
      "Uniswap V3 FRAX/USDC\n",
      "mStable FRAX/mUSD\n",
      "Uniswap V3 FRAX/DAI\n",
      "Sushi FRAX/SUSHI\n",
      "StakeDAO sdFRAX3CRV-f\n",
      "Gelato Uniswap FRAX/DAI\n",
      "StakeDAO sdETH-FraxPut\n",
      "Uniswap V3 FRAX/agEUR\n",
      "Vesper Orbit FRAX\n",
      "Temple FRAX/TEMPLE\n",
      "Curve VSTFRAX-f\n"
     ]
    }
   ],
   "source": [
    "# Get Gauge Pools and sort by gauge_index\n",
    "req = cache.get('https://api.frax.finance/gauge/info')\n",
    "gauges = json.loads(req['value'])\n",
    "'''\n",
    "# A gauge looks like:\n",
    "\n",
    "{'address': '0x3EF26504dbc8Dd7B7aa3E97Bc9f3813a9FC0B4B0',\n",
    " 'fxs_next': 39981.83490806742,\n",
    " 'fxs_now': 33694.5538302253,\n",
    " 'gauge_index': 0,\n",
    " 'gauge_weight': '17127149135922894237322600',\n",
    " 'name': 'Uniswap V3 FRAX/USDC',\n",
    " 'relative_weight_next_pct': 45.69352560921991,\n",
    " 'relative_weight_next_raw': '456935256092199104',\n",
    " 'relative_weight_now_pct': 38.508061520257485,\n",
    " 'relative_weight_now_raw': '385080615202574845'}\n",
    "'''\n",
    "gauges.sort(key=lambda g: g['gauge_index'])\n",
    "for gauge in gauges:\n",
    "  print(gauge['name'])"
   ]
  },
  {
   "cell_type": "code",
   "execution_count": 125,
   "id": "f37d14d1",
   "metadata": {},
   "outputs": [
    {
     "name": "stdout",
     "output_type": "stream",
     "text": [
      "ethereum   : Uniswap V3 FRAX/USDC     : 0x3EF26504dbc8Dd7B7aa3E97Bc9f3813a9FC0B4B0\n",
      "polygon    : mStable FRAX/mUSD        : 0xc425Fd9Ed3C892d849C9E1a971516da1C1B29696\n",
      "ethereum   : Uniswap V3 FRAX/DAI      : 0xF22471AC2156B489CC4a59092c56713F813ff53e\n",
      "ethereum   : Sushi FRAX/SUSHI         : 0xb4Ab0dE6581FBD3A02cF8f9f265138691c3A7d5D\n",
      "ethereum   : StakeDAO sdFRAX3CRV-f    : 0xEB81b86248d3C2b618CcB071ADB122109DA96Da2\n",
      "ethereum   : Gelato Uniswap FRAX/DAI  : 0xcdfc491804A420b677f8e788B5157856910E2F6f\n",
      "ethereum   : StakeDAO sdETH-FraxPut   : 0x0A53544b2194Dd8Ebc62c779043fc0624705BB56\n",
      "ethereum   : Uniswap V3 FRAX/agEUR    : 0xf8caEd1943B15B877D7105B9906a618c154f69E8\n",
      "ethereum   : Vesper Orbit FRAX        : 0x698137C473bc1F0Ea9b85adE45Caf64ef2DF48d6\n",
      "ethereum   : Temple FRAX/TEMPLE       : 0x10460d02226d6ef7B2419aE150E6377BdbB7Ef16\n",
      "arbitrum   : Curve VSTFRAX-f          : 0x127963A74c07f72D862F2Bdc225226c3251BD117\n"
     ]
    }
   ],
   "source": [
    "# Get all pools listed in the \"Staking\" tab\n",
    "req = cache.get('https://api.frax.finance/pools')\n",
    "pools = json.loads(req['value'])\n",
    "'''\n",
    "# A pool looks like\n",
    "{'apy': 18.786202278137203,\n",
    "  'apy_max': 56.35860683441161,\n",
    "  'chain': 'arbitrum',\n",
    "  'identifier': 'Curve VSTFRAX-f',\n",
    "  'is_deprecated': False,\n",
    "  'liquidity_locked': 24336315.042461667,\n",
    "  'logo': '',\n",
    "  'pair': 'Curve VSTFRAX-f',\n",
    "  'pairLink': 'https://app.frax.finance/staking#Curve_VSTFRAX_F',\n",
    "  'platform': 'curve_arbi_vstfrax',\n",
    "  'pool_rewards': ['FXS', 'VSTA'],\n",
    "  'pool_tokens': ['FRAX', 'VST']},\n",
    "'''\n",
    "\n",
    "# Huge PITA but we can get contract addresses for all these pools as well...\n",
    "req = cache.get('https://raw.githubusercontent.com/FraxFinance/frax-solidity/master/src/types/constants.ts')\n",
    "constants = req['value'].decode('utf8')\n",
    "start = constants.find('export const CONTRACT_ADDRESSES')\n",
    "end = constants.find('export const INVESTOR_ALLOCATIONS')\n",
    "constants = constants[start:end].replace('export const CONTRACT_ADDRESSES = ', '')\n",
    "\n",
    "# best tool: https://regex101.com/\n",
    "# also useful: https://pythex.org/\n",
    "# docs: https://note.nkmk.me/en/python-str-replace-translate-re-sub/\n",
    "# https://jsonlint.com/\n",
    "import re\n",
    "constants = re.sub(r'//.*', '', constants)\n",
    "constants = re.sub(r'[\\s]*NOTE.*', '', constants)\n",
    "constants = re.sub(r'([a-zA-Z0-9_]+)[\\s]*:\\B', r'\"\\1\":', constants)\n",
    "import ast\n",
    "contracts = ast.literal_eval(constants)\n",
    "\n",
    "staking_contracts = {}\n",
    "for key in contracts:\n",
    "  if 'staking_contracts' in contracts[key]:\n",
    "    for contract in contracts[key]['staking_contracts']:\n",
    "      staking_contracts[contract] = {'chain': key, 'address': contracts[key]['staking_contracts'][contract]}\n",
    "    \n",
    "for gauge in gauges:\n",
    "  try:\n",
    "    contract = staking_contracts[gauge['name']]\n",
    "    print(f\"{contract['chain']:10} : {gauge['name']:24} : {contract['address']}\")\n",
    "  except:\n",
    "    print(f'NO CONTRACT for {gauge[\"name\"]}')\n",
    "    pass"
   ]
  },
  {
   "cell_type": "code",
   "execution_count": null,
   "id": "5ff3be2b",
   "metadata": {},
   "outputs": [],
   "source": [
    "# fraximalist.eth (example) \n",
    "address = '0x68e912af6176bb1639aca936eb58d71cc2558b66'"
   ]
  }
 ],
 "metadata": {
  "kernelspec": {
   "display_name": "Python 3 (ipykernel)",
   "language": "python",
   "name": "python3"
  },
  "language_info": {
   "codemirror_mode": {
    "name": "ipython",
    "version": 3
   },
   "file_extension": ".py",
   "mimetype": "text/x-python",
   "name": "python",
   "nbconvert_exporter": "python",
   "pygments_lexer": "ipython3",
   "version": "3.10.2"
  }
 },
 "nbformat": 4,
 "nbformat_minor": 5
}
